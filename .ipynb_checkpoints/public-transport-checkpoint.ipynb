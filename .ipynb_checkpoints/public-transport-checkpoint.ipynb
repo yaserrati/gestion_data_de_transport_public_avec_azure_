{
 "cells": [
  {
   "cell_type": "code",
   "execution_count": 0,
   "metadata": {
    "application/vnd.databricks.v1+cell": {
     "cellMetadata": {},
     "inputWidgets": {},
     "nuid": "85b01adf-06d4-4a5f-a17e-2cb6efcc3c31",
     "showTitle": false,
     "title": ""
    }
   },
   "outputs": [],
   "source": [
    "import pandas as pd\n",
    "import random\n",
    "from datetime import datetime, timedelta"
   ]
  },
  {
   "cell_type": "code",
   "execution_count": 0,
   "metadata": {
    "application/vnd.databricks.v1+cell": {
     "cellMetadata": {},
     "inputWidgets": {},
     "nuid": "297730f1-67fb-46cd-b8fe-ae0781c62d03",
     "showTitle": false,
     "title": ""
    }
   },
   "outputs": [],
   "source": [
    "# Generate data for January 2023\n",
    "start_date = datetime(2023, 1, 1)\n",
    "end_date = datetime(2023, 1, 31)\n",
    "date_generated = [start_date + timedelta(days=x) for x in range(0, (end_date-start_date).days)]"
   ]
  },
  {
   "cell_type": "code",
   "execution_count": 0,
   "metadata": {
    "application/vnd.databricks.v1+cell": {
     "cellMetadata": {},
     "inputWidgets": {},
     "nuid": "3a403191-7b3b-48da-a38d-c1e6a57c05a2",
     "showTitle": false,
     "title": ""
    }
   },
   "outputs": [],
   "source": [
    "transport_types = [\"Bus\", \"Train\", \"Tram\", \"Metro\"]\n",
    "routes = [\"Route_\" + str(i) for i in range(1, 11)]\n",
    "stations = [\"Station_\" + str(i) for i in range(1, 21)]"
   ]
  },
  {
   "cell_type": "code",
   "execution_count": 0,
   "metadata": {
    "application/vnd.databricks.v1+cell": {
     "cellMetadata": {},
     "inputWidgets": {},
     "nuid": "6849ba4a-bcca-4f20-a2ba-4b394f3770f0",
     "showTitle": false,
     "title": ""
    }
   },
   "outputs": [],
   "source": [
    "# Randomly select 5 days as extreme weather days\n",
    "extreme_weather_days = random.sample(date_generated, 5)\n",
    "\n",
    "data = []"
   ]
  },
  {
   "cell_type": "code",
   "execution_count": 0,
   "metadata": {
    "application/vnd.databricks.v1+cell": {
     "cellMetadata": {},
     "inputWidgets": {},
     "nuid": "d6083fec-f150-4066-bd4d-0d85d03cdcf3",
     "showTitle": false,
     "title": ""
    }
   },
   "outputs": [],
   "source": [
    "for date in date_generated:\n",
    "    for _ in range(32):  # 32 records per day to get a total of 992 records for January\n",
    "        transport = random.choice(transport_types)\n",
    "        route = random.choice(routes)\n",
    "\n",
    "        # Normal operating hours\n",
    "        departure_hour = random.randint(5, 22)\n",
    "        departure_minute = random.randint(0, 59)\n",
    "\n",
    "        # Introducing Unusual Operating Hours for buses\n",
    "        if transport == \"Bus\" and random.random() < 0.05:  # 5% chance\n",
    "            departure_hour = 3\n",
    "\n",
    "        departure_time = f\"{departure_hour:02}:{departure_minute:02}\"\n",
    "\n",
    "        # Normal duration\n",
    "        duration = random.randint(10, 120)\n",
    "\n",
    "        # Introducing Short Turnarounds\n",
    "        if random.random() < 0.05:  # 5% chance\n",
    "            duration = random.randint(1, 5)\n",
    "\n",
    "        # General delay\n",
    "        delay = random.randint(0, 15)\n",
    "\n",
    "        # Weather Impact\n",
    "        if date in extreme_weather_days:\n",
    "            # Increase delay by 10 to 60 minutes\n",
    "            delay += random.randint(10, 60)\n",
    "\n",
    "            # 10% chance to change the route\n",
    "            if random.random() < 0.10:\n",
    "                route = random.choice(routes)\n",
    "\n",
    "        total_minutes = departure_minute + duration + delay\n",
    "        arrival_hour = departure_hour + total_minutes // 60\n",
    "        arrival_minute = total_minutes % 60\n",
    "        arrival_time = f\"{arrival_hour:02}:{arrival_minute:02}\"\n",
    "\n",
    "        passengers = random.randint(1, 100)\n",
    "        departure_station = random.choice(stations)\n",
    "        arrival_station = random.choice(stations)\n",
    "\n",
    "        data.append([date, transport, route, departure_time, arrival_time, passengers, departure_station, arrival_station, delay])\n"
   ]
  },
  {
   "cell_type": "code",
   "execution_count": 0,
   "metadata": {
    "application/vnd.databricks.v1+cell": {
     "cellMetadata": {},
     "inputWidgets": {},
     "nuid": "074328d0-a2e0-4c50-a1f2-7a961523ac46",
     "showTitle": false,
     "title": ""
    }
   },
   "outputs": [],
   "source": [
    "df = pd.DataFrame(data, columns=[\"Date\", \"TransportType\", \"Route\", \"DepartureTime\", \"ArrivalTime\", \"Passengers\", \"DepartureStation\", \"ArrivalStation\", \"Delay\"])\n",
    "df.to_csv(\"public_transport_datacsv.csv\", index=False)"
   ]
  },
  {
   "cell_type": "code",
   "execution_count": 0,
   "metadata": {
    "application/vnd.databricks.v1+cell": {
     "cellMetadata": {},
     "inputWidgets": {},
     "nuid": "d79b4288-6813-4c4c-8fba-dd2c73d486b0",
     "showTitle": false,
     "title": ""
    }
   },
   "outputs": [],
   "source": [
    "csv= "
   ]
  }
 ],
 "metadata": {
  "application/vnd.databricks.v1+notebook": {
   "dashboards": [],
   "language": "python",
   "notebookMetadata": {
    "pythonIndentUnit": 4
   },
   "notebookName": "public-transport-checkpoint",
   "widgets": {}
  },
  "colab": {
   "authorship_tag": "ABX9TyNEcAPisy+UgH2pdAMa2tgd",
   "provenance": []
  },
  "kernelspec": {
   "display_name": "Python 3 (ipykernel)",
   "language": "python",
   "name": "python3"
  },
  "language_info": {
   "codemirror_mode": {
    "name": "ipython",
    "version": 3
   },
   "file_extension": ".py",
   "mimetype": "text/x-python",
   "name": "python",
   "nbconvert_exporter": "python",
   "pygments_lexer": "ipython3",
   "version": "3.10.10"
  },
  "vp": {
   "vp_config_version": "1.0.0",
   "vp_menu_width": 273,
   "vp_note_display": false,
   "vp_note_width": 0,
   "vp_position": {
    "width": 278
   },
   "vp_section_display": false,
   "vp_signature": "VisualPython"
  }
 },
 "nbformat": 4,
 "nbformat_minor": 0
}
