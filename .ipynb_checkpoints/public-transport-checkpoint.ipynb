{
 "cells": [
  {
   "cell_type": "code",
   "execution_count": 1,
   "metadata": {},
   "outputs": [],
   "source": [
    "import pandas as pd\n",
    "import random\n",
    "from datetime import datetime, timedelta"
   ]
  },
  {
   "cell_type": "code",
   "execution_count": 2,
   "metadata": {},
   "outputs": [],
   "source": [
    "# Generate data for January 2023\n",
    "start_date = datetime(2023, 1, 1)\n",
    "end_date = datetime(2023, 1, 31)\n",
    "date_generated = [start_date + timedelta(days=x) for x in range(0, (end_date-start_date).days)]"
   ]
  },
  {
   "cell_type": "code",
   "execution_count": 3,
   "metadata": {},
   "outputs": [],
   "source": [
    "transport_types = [\"Bus\", \"Train\", \"Tram\", \"Metro\"]\n",
    "routes = [\"Route_\" + str(i) for i in range(1, 11)]\n",
    "stations = [\"Station_\" + str(i) for i in range(1, 21)]"
   ]
  },
  {
   "cell_type": "code",
   "execution_count": 4,
   "metadata": {},
   "outputs": [],
   "source": [
    "# Randomly select 5 days as extreme weather days\n",
    "extreme_weather_days = random.sample(date_generated, 5)\n",
    "\n",
    "data = []"
   ]
  },
  {
   "cell_type": "code",
   "execution_count": 5,
   "metadata": {},
   "outputs": [],
   "source": [
    "for date in date_generated:\n",
    "    for _ in range(32):  # 32 records per day to get a total of 992 records for January\n",
    "        transport = random.choice(transport_types)\n",
    "        route = random.choice(routes)\n",
    "\n",
    "        # Normal operating hours\n",
    "        departure_hour = random.randint(5, 22)\n",
    "        departure_minute = random.randint(0, 59)\n",
    "\n",
    "        # Introducing Unusual Operating Hours for buses\n",
    "        if transport == \"Bus\" and random.random() < 0.05:  # 5% chance\n",
    "            departure_hour = 3\n",
    "\n",
    "        departure_time = f\"{departure_hour:02}:{departure_minute:02}\"\n",
    "\n",
    "        # Normal duration\n",
    "        duration = random.randint(10, 120)\n",
    "\n",
    "        # Introducing Short Turnarounds\n",
    "        if random.random() < 0.05:  # 5% chance\n",
    "            duration = random.randint(1, 5)\n",
    "\n",
    "        # General delay\n",
    "        delay = random.randint(0, 15)\n",
    "\n",
    "        # Weather Impact\n",
    "        if date in extreme_weather_days:\n",
    "            # Increase delay by 10 to 60 minutes\n",
    "            delay += random.randint(10, 60)\n",
    "\n",
    "            # 10% chance to change the route\n",
    "            if random.random() < 0.10:\n",
    "                route = random.choice(routes)\n",
    "\n",
    "        total_minutes = departure_minute + duration + delay\n",
    "        arrival_hour = departure_hour + total_minutes // 60\n",
    "        arrival_minute = total_minutes % 60\n",
    "        arrival_time = f\"{arrival_hour:02}:{arrival_minute:02}\"\n",
    "\n",
    "        passengers = random.randint(1, 100)\n",
    "        departure_station = random.choice(stations)\n",
    "        arrival_station = random.choice(stations)\n",
    "\n",
    "        data.append([date, transport, route, departure_time, arrival_time, passengers, departure_station, arrival_station, delay])\n"
   ]
  },
  {
   "cell_type": "code",
   "execution_count": 6,
   "metadata": {},
   "outputs": [],
   "source": [
    "df = pd.DataFrame(data, columns=[\"Date\", \"TransportType\", \"Route\", \"DepartureTime\", \"ArrivalTime\", \"Passengers\", \"DepartureStation\", \"ArrivalStation\", \"Delay\"])\n",
    "df.to_csv(\"public_transport_datacsv.csv\", index=False)"
   ]
  },
  {
   "cell_type": "code",
   "execution_count": null,
   "metadata": {},
   "outputs": [],
   "source": [
    "csv= "
   ]
  }
 ],
 "metadata": {
  "colab": {
   "authorship_tag": "ABX9TyNEcAPisy+UgH2pdAMa2tgd",
   "provenance": []
  },
  "kernelspec": {
   "display_name": "Python 3 (ipykernel)",
   "language": "python",
   "name": "python3"
  },
  "language_info": {
   "codemirror_mode": {
    "name": "ipython",
    "version": 3
   },
   "file_extension": ".py",
   "mimetype": "text/x-python",
   "name": "python",
   "nbconvert_exporter": "python",
   "pygments_lexer": "ipython3",
   "version": "3.10.10"
  },
  "vp": {
   "vp_config_version": "1.0.0",
   "vp_menu_width": 273,
   "vp_note_display": false,
   "vp_note_width": 0,
   "vp_position": {
    "width": 278
   },
   "vp_section_display": false,
   "vp_signature": "VisualPython"
  }
 },
 "nbformat": 4,
 "nbformat_minor": 1
}
